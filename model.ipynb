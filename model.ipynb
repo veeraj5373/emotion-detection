{
 "cells": [
  {
   "cell_type": "code",
   "execution_count": 1,
   "id": "1c6b1412",
   "metadata": {},
   "outputs": [],
   "source": [
    "import pandas as pd\n",
    "import numpy as np\n",
    "import matplotlib.pyplot as plt\n",
    "import seaborn as sns\n",
    "import plotly.express as px\n",
    "\n",
    "from tensorflow.keras.preprocessing.image import ImageDataGenerator\n",
    "from keras.utils import plot_model\n",
    "from keras.models import Model\n",
    "from keras.layers import Input, Dense, Flatten, Dropout, BatchNormalization\n",
    "from keras.layers.convolutional import Conv2D\n",
    "from keras.layers.pooling import MaxPooling2D\n",
    "from keras.layers import concatenate\n",
    "from keras.optimizers import Adam, SGD\n",
    "from keras.regularizers import l1, l2\n",
    "from matplotlib import pyplot as plt\n",
    "from sklearn.metrics import confusion_matrix\n"
   ]
  },
  {
   "cell_type": "code",
   "execution_count": 2,
   "id": "bfedc7c5",
   "metadata": {},
   "outputs": [],
   "source": [
    "train_dir = \"train\" #passing the path with training images\n",
    "test_dir = \"test\"   #passing the path with testing images"
   ]
  },
  {
   "cell_type": "code",
   "execution_count": 3,
   "id": "f0a73ab5",
   "metadata": {},
   "outputs": [],
   "source": [
    "img_size = 48"
   ]
  },
  {
   "cell_type": "code",
   "execution_count": 4,
   "id": "b0f928a0",
   "metadata": {},
   "outputs": [],
   "source": [
    "train_datagen = ImageDataGenerator(#rotation_range = 180,\n",
    "                                         width_shift_range = 0.1,\n",
    "                                         height_shift_range = 0.1,\n",
    "                                         horizontal_flip = True,\n",
    "                                         rescale = 1./255,\n",
    "                                         #zoom_range = 0.2,\n",
    "                                         validation_split = 0.2\n",
    "                                        )\n",
    "validation_datagen = ImageDataGenerator(rescale = 1./255,\n",
    "                                         validation_split = 0.2)"
   ]
  },
  {
   "cell_type": "code",
   "execution_count": 5,
   "id": "46e2e50b",
   "metadata": {},
   "outputs": [
    {
     "name": "stdout",
     "output_type": "stream",
     "text": [
      "Found 22968 images belonging to 7 classes.\n",
      "Found 1432 images belonging to 7 classes.\n"
     ]
    }
   ],
   "source": [
    "train_generator = train_datagen.flow_from_directory(directory = train_dir,\n",
    "                                                    target_size = (img_size,img_size),\n",
    "                                                    batch_size = 64,\n",
    "                                                    color_mode = \"grayscale\",\n",
    "                                                    class_mode = \"categorical\",\n",
    "                                                    subset = \"training\"\n",
    "                                                   )\n",
    "validation_generator = validation_datagen.flow_from_directory( directory = test_dir,\n",
    "                                                              target_size = (img_size,img_size),\n",
    "                                                              batch_size = 64,\n",
    "                                                              color_mode = \"grayscale\",\n",
    "                                                              class_mode = \"categorical\",\n",
    "                                                              subset = \"validation\"\n",
    "                                                             )"
   ]
  },
  {
   "cell_type": "code",
   "execution_count": null,
   "id": "0fc822ca",
   "metadata": {},
   "outputs": [],
   "source": [
    "\n"
   ]
  },
  {
   "cell_type": "code",
   "execution_count": null,
   "id": "7af4774f",
   "metadata": {},
   "outputs": [],
   "source": []
  },
  {
   "cell_type": "code",
   "execution_count": 6,
   "id": "b32492a0",
   "metadata": {},
   "outputs": [],
   "source": [
    "def FER_Model(input_shape=(48,48,1)):\n",
    "    # first input model\n",
    "    visible = Input(shape=input_shape, name='input')\n",
    "    num_classes = 7\n",
    "    #the 1-st block\n",
    "    conv1_1 = Conv2D(64, kernel_size=3, activation='relu', padding='same', name = 'conv1_1')(visible)\n",
    "    conv1_1 = BatchNormalization()(conv1_1)\n",
    "    conv1_2 = Conv2D(64, kernel_size=3, activation='relu', padding='same', name = 'conv1_2')(conv1_1)\n",
    "    conv1_2 = BatchNormalization()(conv1_2)\n",
    "    pool1_1 = MaxPooling2D(pool_size=(2,2), name = 'pool1_1')(conv1_2)\n",
    "    drop1_1 = Dropout(0.3, name = 'drop1_1')(pool1_1)\n",
    "    #the 2-nd block\n",
    "    conv2_1 = Conv2D(128, kernel_size=3, activation='relu', padding='same', name = 'conv2_1')(drop1_1)\n",
    "    conv2_1 = BatchNormalization()(conv2_1)\n",
    "    conv2_2 = Conv2D(128, kernel_size=3, activation='relu', padding='same', name = 'conv2_2')(conv2_1)\n",
    "    conv2_2 = BatchNormalization()(conv2_2)\n",
    "    conv2_3 = Conv2D(128, kernel_size=3, activation='relu', padding='same', name = 'conv2_3')(conv2_2)\n",
    "    conv2_2 = BatchNormalization()(conv2_3)\n",
    "    pool2_1 = MaxPooling2D(pool_size=(2,2), name = 'pool2_1')(conv2_3)\n",
    "    drop2_1 = Dropout(0.3, name = 'drop2_1')(pool2_1) \n",
    "    #the 3-rd block\n",
    "    conv3_1 = Conv2D(256, kernel_size=3, activation='relu', padding='same', name = 'conv3_1')(drop2_1)\n",
    "    conv3_1 = BatchNormalization()(conv3_1)\n",
    "    conv3_2 = Conv2D(256, kernel_size=3, activation='relu', padding='same', name = 'conv3_2')(conv3_1)\n",
    "    conv3_2 = BatchNormalization()(conv3_2)\n",
    "    conv3_3 = Conv2D(256, kernel_size=3, activation='relu', padding='same', name = 'conv3_3')(conv3_2)\n",
    "    conv3_3 = BatchNormalization()(conv3_3)\n",
    "    conv3_4 = Conv2D(256, kernel_size=3, activation='relu', padding='same', name = 'conv3_4')(conv3_3)\n",
    "    conv3_4 = BatchNormalization()(conv3_4)\n",
    "    pool3_1 = MaxPooling2D(pool_size=(2,2), name = 'pool3_1')(conv3_4)\n",
    "    drop3_1 = Dropout(0.3, name = 'drop3_1')(pool3_1)\n",
    "    #the 4-th block\n",
    "    conv4_1 = Conv2D(256, kernel_size=3, activation='relu', padding='same', name = 'conv4_1')(drop3_1)\n",
    "    conv4_1 = BatchNormalization()(conv4_1)\n",
    "    conv4_2 = Conv2D(256, kernel_size=3, activation='relu', padding='same', name = 'conv4_2')(conv4_1)\n",
    "    conv4_2 = BatchNormalization()(conv4_2)\n",
    "    conv4_3 = Conv2D(256, kernel_size=3, activation='relu', padding='same', name = 'conv4_3')(conv4_2)\n",
    "    conv4_3 = BatchNormalization()(conv4_3)\n",
    "    conv4_4 = Conv2D(256, kernel_size=3, activation='relu', padding='same', name = 'conv4_4')(conv4_3)\n",
    "    conv4_4 = BatchNormalization()(conv4_4)\n",
    "    pool4_1 = MaxPooling2D(pool_size=(2,2), name = 'pool4_1')(conv4_4)\n",
    "    drop4_1 = Dropout(0.3, name = 'drop4_1')(pool4_1)\n",
    "    #the 5-th block\n",
    "    conv5_1 = Conv2D(512, kernel_size=3, activation='relu', padding='same', name = 'conv5_1')(drop4_1)\n",
    "    conv5_1 = BatchNormalization()(conv5_1)\n",
    "    conv5_2 = Conv2D(512, kernel_size=3, activation='relu', padding='same', name = 'conv5_2')(conv5_1)\n",
    "    conv5_2 = BatchNormalization()(conv5_2)\n",
    "    conv5_3 = Conv2D(512, kernel_size=3, activation='relu', padding='same', name = 'conv5_3')(conv5_2)\n",
    "    conv5_3 = BatchNormalization()(conv5_3)\n",
    "    conv5_4 = Conv2D(512, kernel_size=3, activation='relu', padding='same', name = 'conv5_4')(conv5_3)\n",
    "    conv5_4 = BatchNormalization()(conv5_4)\n",
    "    pool5_1 = MaxPooling2D(pool_size=(2,2), name = 'pool5_1')(conv5_4)\n",
    "    drop5_1 = Dropout(0.3, name = 'drop5_1')(pool5_1)#Flatten and output\n",
    "    flatten = Flatten(name = 'flatten')(drop5_1)\n",
    "    ouput = Dense(num_classes, activation='softmax', name = 'output')(flatten)# create model \n",
    "    model = Model(inputs =visible, outputs = ouput)\n",
    "    # summary layers\n",
    "    print(model.summary())\n",
    "    \n",
    "    return model"
   ]
  },
  {
   "cell_type": "code",
   "execution_count": 7,
   "id": "997ce7ec",
   "metadata": {},
   "outputs": [
    {
     "name": "stdout",
     "output_type": "stream",
     "text": [
      "Model: \"model\"\n",
      "_________________________________________________________________\n",
      " Layer (type)                Output Shape              Param #   \n",
      "=================================================================\n",
      " input (InputLayer)          [(None, 48, 48, 1)]       0         \n",
      "                                                                 \n",
      " conv1_1 (Conv2D)            (None, 48, 48, 64)        640       \n",
      "                                                                 \n",
      " batch_normalization (BatchN  (None, 48, 48, 64)       256       \n",
      " ormalization)                                                   \n",
      "                                                                 \n",
      " conv1_2 (Conv2D)            (None, 48, 48, 64)        36928     \n",
      "                                                                 \n",
      " batch_normalization_1 (Batc  (None, 48, 48, 64)       256       \n",
      " hNormalization)                                                 \n",
      "                                                                 \n",
      " pool1_1 (MaxPooling2D)      (None, 24, 24, 64)        0         \n",
      "                                                                 \n",
      " drop1_1 (Dropout)           (None, 24, 24, 64)        0         \n",
      "                                                                 \n",
      " conv2_1 (Conv2D)            (None, 24, 24, 128)       73856     \n",
      "                                                                 \n",
      " batch_normalization_2 (Batc  (None, 24, 24, 128)      512       \n",
      " hNormalization)                                                 \n",
      "                                                                 \n",
      " conv2_2 (Conv2D)            (None, 24, 24, 128)       147584    \n",
      "                                                                 \n",
      " batch_normalization_3 (Batc  (None, 24, 24, 128)      512       \n",
      " hNormalization)                                                 \n",
      "                                                                 \n",
      " conv2_3 (Conv2D)            (None, 24, 24, 128)       147584    \n",
      "                                                                 \n",
      " pool2_1 (MaxPooling2D)      (None, 12, 12, 128)       0         \n",
      "                                                                 \n",
      " drop2_1 (Dropout)           (None, 12, 12, 128)       0         \n",
      "                                                                 \n",
      " conv3_1 (Conv2D)            (None, 12, 12, 256)       295168    \n",
      "                                                                 \n",
      " batch_normalization_5 (Batc  (None, 12, 12, 256)      1024      \n",
      " hNormalization)                                                 \n",
      "                                                                 \n",
      " conv3_2 (Conv2D)            (None, 12, 12, 256)       590080    \n",
      "                                                                 \n",
      " batch_normalization_6 (Batc  (None, 12, 12, 256)      1024      \n",
      " hNormalization)                                                 \n",
      "                                                                 \n",
      " conv3_3 (Conv2D)            (None, 12, 12, 256)       590080    \n",
      "                                                                 \n",
      " batch_normalization_7 (Batc  (None, 12, 12, 256)      1024      \n",
      " hNormalization)                                                 \n",
      "                                                                 \n",
      " conv3_4 (Conv2D)            (None, 12, 12, 256)       590080    \n",
      "                                                                 \n",
      " batch_normalization_8 (Batc  (None, 12, 12, 256)      1024      \n",
      " hNormalization)                                                 \n",
      "                                                                 \n",
      " pool3_1 (MaxPooling2D)      (None, 6, 6, 256)         0         \n",
      "                                                                 \n",
      " drop3_1 (Dropout)           (None, 6, 6, 256)         0         \n",
      "                                                                 \n",
      " conv4_1 (Conv2D)            (None, 6, 6, 256)         590080    \n",
      "                                                                 \n",
      " batch_normalization_9 (Batc  (None, 6, 6, 256)        1024      \n",
      " hNormalization)                                                 \n",
      "                                                                 \n",
      " conv4_2 (Conv2D)            (None, 6, 6, 256)         590080    \n",
      "                                                                 \n",
      " batch_normalization_10 (Bat  (None, 6, 6, 256)        1024      \n",
      " chNormalization)                                                \n",
      "                                                                 \n",
      " conv4_3 (Conv2D)            (None, 6, 6, 256)         590080    \n",
      "                                                                 \n",
      " batch_normalization_11 (Bat  (None, 6, 6, 256)        1024      \n",
      " chNormalization)                                                \n",
      "                                                                 \n",
      " conv4_4 (Conv2D)            (None, 6, 6, 256)         590080    \n",
      "                                                                 \n",
      " batch_normalization_12 (Bat  (None, 6, 6, 256)        1024      \n",
      " chNormalization)                                                \n",
      "                                                                 \n",
      " pool4_1 (MaxPooling2D)      (None, 3, 3, 256)         0         \n",
      "                                                                 \n",
      " drop4_1 (Dropout)           (None, 3, 3, 256)         0         \n",
      "                                                                 \n",
      " conv5_1 (Conv2D)            (None, 3, 3, 512)         1180160   \n",
      "                                                                 \n",
      " batch_normalization_13 (Bat  (None, 3, 3, 512)        2048      \n",
      " chNormalization)                                                \n",
      "                                                                 \n",
      " conv5_2 (Conv2D)            (None, 3, 3, 512)         2359808   \n",
      "                                                                 \n",
      " batch_normalization_14 (Bat  (None, 3, 3, 512)        2048      \n",
      " chNormalization)                                                \n",
      "                                                                 \n",
      " conv5_3 (Conv2D)            (None, 3, 3, 512)         2359808   \n",
      "                                                                 \n",
      " batch_normalization_15 (Bat  (None, 3, 3, 512)        2048      \n",
      " chNormalization)                                                \n",
      "                                                                 \n",
      " conv5_4 (Conv2D)            (None, 3, 3, 512)         2359808   \n",
      "                                                                 \n",
      " pool5_1 (MaxPooling2D)      (None, 1, 1, 512)         0         \n",
      "                                                                 \n",
      " drop5_1 (Dropout)           (None, 1, 1, 512)         0         \n",
      "                                                                 \n",
      " flatten (Flatten)           (None, 512)               0         \n",
      "                                                                 \n",
      " output (Dense)              (None, 7)                 3591      \n",
      "                                                                 \n",
      "=================================================================\n",
      "Total params: 13,111,367\n",
      "Trainable params: 13,103,431\n",
      "Non-trainable params: 7,936\n",
      "_________________________________________________________________\n",
      "None\n"
     ]
    }
   ],
   "source": [
    "model = FER_Model()\n",
    "opt = Adam(learning_rate=0.0001, decay=1e-6)\n",
    "model.compile(loss='categorical_crossentropy', optimizer=opt, metrics=['accuracy'])"
   ]
  },
  {
   "cell_type": "code",
   "execution_count": 34,
   "id": "e884ac8c",
   "metadata": {},
   "outputs": [
    {
     "name": "stdout",
     "output_type": "stream",
     "text": [
      "Epoch 1/30\n"
     ]
    },
    {
     "name": "stderr",
     "output_type": "stream",
     "text": [
      "2023-12-27 08:46:24.232339: I tensorflow/core/common_runtime/executor.cc:1197] [/device:CPU:0] (DEBUG INFO) Executor start aborting (this does not indicate an error and you can ignore this message): INVALID_ARGUMENT: You must feed a value for placeholder tensor 'Placeholder/_0' with dtype int32\n",
      "\t [[{{node Placeholder/_0}}]]\n"
     ]
    },
    {
     "name": "stdout",
     "output_type": "stream",
     "text": [
      "359/359 [==============================] - 497s 1s/step - loss: 1.5070 - accuracy: 0.4142 - val_loss: 1.4350 - val_accuracy: 0.4567\n",
      "Epoch 2/30\n",
      "359/359 [==============================] - 614s 2s/step - loss: 1.4527 - accuracy: 0.4356 - val_loss: 1.4001 - val_accuracy: 0.4763\n",
      "Epoch 3/30\n",
      "359/359 [==============================] - 680s 2s/step - loss: 1.4011 - accuracy: 0.4598 - val_loss: 1.3503 - val_accuracy: 0.4825\n",
      "Epoch 4/30\n",
      "359/359 [==============================] - 674s 2s/step - loss: 1.3534 - accuracy: 0.4817 - val_loss: 1.3214 - val_accuracy: 0.5063\n",
      "Epoch 5/30\n",
      "359/359 [==============================] - 721s 2s/step - loss: 1.3090 - accuracy: 0.4998 - val_loss: 1.2181 - val_accuracy: 0.5489\n",
      "Epoch 6/30\n",
      "359/359 [==============================] - 849s 2s/step - loss: 1.2690 - accuracy: 0.5137 - val_loss: 1.1785 - val_accuracy: 0.5398\n",
      "Epoch 7/30\n",
      "359/359 [==============================] - 845s 2s/step - loss: 1.2378 - accuracy: 0.5280 - val_loss: 1.1519 - val_accuracy: 0.5559\n",
      "Epoch 8/30\n",
      "359/359 [==============================] - 908s 3s/step - loss: 1.2095 - accuracy: 0.5430 - val_loss: 1.1721 - val_accuracy: 0.5538\n",
      "Epoch 9/30\n",
      "359/359 [==============================] - 901s 3s/step - loss: 1.1831 - accuracy: 0.5524 - val_loss: 1.1530 - val_accuracy: 0.5747\n",
      "Epoch 10/30\n",
      "359/359 [==============================] - 833s 2s/step - loss: 1.1553 - accuracy: 0.5611 - val_loss: 1.1636 - val_accuracy: 0.5468\n",
      "Epoch 11/30\n",
      "359/359 [==============================] - 774s 2s/step - loss: 1.1303 - accuracy: 0.5704 - val_loss: 1.0941 - val_accuracy: 0.6034\n",
      "Epoch 12/30\n",
      "359/359 [==============================] - 677s 2s/step - loss: 1.1113 - accuracy: 0.5814 - val_loss: 1.0927 - val_accuracy: 0.5803\n",
      "Epoch 13/30\n",
      "359/359 [==============================] - 676s 2s/step - loss: 1.0872 - accuracy: 0.5887 - val_loss: 1.1240 - val_accuracy: 0.5670\n",
      "Epoch 14/30\n",
      "359/359 [==============================] - 675s 2s/step - loss: 1.0713 - accuracy: 0.5965 - val_loss: 1.0811 - val_accuracy: 0.5915\n",
      "Epoch 15/30\n",
      "359/359 [==============================] - 715s 2s/step - loss: 1.0524 - accuracy: 0.6035 - val_loss: 1.0935 - val_accuracy: 0.6103\n",
      "Epoch 16/30\n",
      "359/359 [==============================] - 710s 2s/step - loss: 1.0361 - accuracy: 0.6073 - val_loss: 1.0761 - val_accuracy: 0.6061\n",
      "Epoch 17/30\n",
      "359/359 [==============================] - 569s 2s/step - loss: 1.0115 - accuracy: 0.6161 - val_loss: 1.0804 - val_accuracy: 0.6222\n",
      "Epoch 18/30\n",
      "359/359 [==============================] - 581s 2s/step - loss: 1.0059 - accuracy: 0.6234 - val_loss: 1.0431 - val_accuracy: 0.6243\n",
      "Epoch 19/30\n",
      "359/359 [==============================] - 704s 2s/step - loss: 0.9890 - accuracy: 0.6316 - val_loss: 1.0806 - val_accuracy: 0.5971\n",
      "Epoch 20/30\n",
      "359/359 [==============================] - 875s 2s/step - loss: 0.9733 - accuracy: 0.6321 - val_loss: 1.0681 - val_accuracy: 0.6047\n",
      "Epoch 21/30\n",
      "359/359 [==============================] - 922s 3s/step - loss: 0.9572 - accuracy: 0.6419 - val_loss: 1.0205 - val_accuracy: 0.6271\n",
      "Epoch 22/30\n",
      "359/359 [==============================] - 963s 3s/step - loss: 0.9440 - accuracy: 0.6412 - val_loss: 1.0152 - val_accuracy: 0.6271\n",
      "Epoch 23/30\n",
      "359/359 [==============================] - 1047s 3s/step - loss: 0.9260 - accuracy: 0.6464 - val_loss: 1.0253 - val_accuracy: 0.6292\n",
      "Epoch 24/30\n",
      "359/359 [==============================] - 1104s 3s/step - loss: 0.9147 - accuracy: 0.6536 - val_loss: 1.0135 - val_accuracy: 0.6306\n",
      "Epoch 25/30\n",
      "359/359 [==============================] - 809s 2s/step - loss: 0.9013 - accuracy: 0.6624 - val_loss: 0.9761 - val_accuracy: 0.6418\n",
      "Epoch 26/30\n",
      "359/359 [==============================] - 830s 2s/step - loss: 0.8885 - accuracy: 0.6658 - val_loss: 0.9787 - val_accuracy: 0.6480\n",
      "Epoch 27/30\n",
      "359/359 [==============================] - 868s 2s/step - loss: 0.8752 - accuracy: 0.6721 - val_loss: 0.9895 - val_accuracy: 0.6390\n",
      "Epoch 28/30\n",
      "359/359 [==============================] - 825s 2s/step - loss: 0.8639 - accuracy: 0.6767 - val_loss: 0.9750 - val_accuracy: 0.6466\n",
      "Epoch 29/30\n",
      "359/359 [==============================] - 957s 3s/step - loss: 0.8500 - accuracy: 0.6805 - val_loss: 1.0236 - val_accuracy: 0.6369\n",
      "Epoch 30/30\n",
      "359/359 [==============================] - 1129s 3s/step - loss: 0.8404 - accuracy: 0.6868 - val_loss: 0.9682 - val_accuracy: 0.6522\n"
     ]
    }
   ],
   "source": [
    "epochs = 30\n",
    "history = model.fit(x = train_generator,epochs = epochs,validation_data = validation_generator)"
   ]
  },
  {
   "cell_type": "code",
   "execution_count": 35,
   "id": "54472b25",
   "metadata": {},
   "outputs": [],
   "source": [
    "model.save('first_contact.h5')"
   ]
  },
  {
   "cell_type": "code",
   "execution_count": 36,
   "id": "a85da254",
   "metadata": {},
   "outputs": [
    {
     "data": {
      "image/png": "[encoded data removed]",
      "text/plain": [
       "<Figure size 1200x400 with 2 Axes>"
      ]
     },
     "metadata": {},
     "output_type": "display_data"
    }
   ],
   "source": [
    "fig , ax = plt.subplots(1,2)\n",
    "train_acc = history.history['accuracy']\n",
    "train_loss = history.history['loss']\n",
    "fig.set_size_inches(12,4)\n",
    "\n",
    "ax[0].plot(history.history['accuracy'])\n",
    "ax[0].plot(history.history['val_accuracy'])\n",
    "ax[0].set_title('Training Accuracy vs Validation Accuracy')\n",
    "ax[0].set_ylabel('Accuracy')\n",
    "ax[0].set_xlabel('Epoch')\n",
    "ax[0].legend(['Train', 'Validation'], loc='upper left')\n",
    "\n",
    "ax[1].plot(history.history['loss'])\n",
    "ax[1].plot(history.history['val_loss'])\n",
    "ax[1].set_title('Training Loss vs Validation Loss')\n",
    "ax[1].set_ylabel('Loss')\n",
    "ax[1].set_xlabel('Epoch')\n",
    "ax[1].legend(['Train', 'Validation'], loc='upper left')\n",
    "\n",
    "plt.show()"
   ]
  },
  {
   "cell_type": "code",
   "execution_count": 145,
   "id": "db377d92",
   "metadata": {},
   "outputs": [
    {
     "name": "stderr",
     "output_type": "stream",
     "text": [
      "2023-12-28 16:25:17.095813: I tensorflow/core/common_runtime/executor.cc:1197] [/device:CPU:0] (DEBUG INFO) Executor start aborting (this does not indicate an error and you can ignore this message): INVALID_ARGUMENT: You must feed a value for placeholder tensor 'Placeholder/_0' with dtype int32\n",
      "\t [[{{node Placeholder/_0}}]]\n"
     ]
    },
    {
     "name": "stdout",
     "output_type": "stream",
     "text": [
      "23/23 [==============================] - 6s 268ms/step\n"
     ]
    }
   ],
   "source": [
    "x=model.predict(validation_generator)"
   ]
  },
  {
   "cell_type": "code",
   "execution_count": 150,
   "id": "a09179e9",
   "metadata": {},
   "outputs": [
    {
     "data": {
      "text/plain": [
       "array([[4.1044211e-01, 1.6049510e-03, 6.7325294e-02, ..., 2.5345919e-01,\n",
       "        2.6458159e-01, 1.8096579e-03],\n",
       "       [2.8237942e-01, 7.3394593e-04, 4.6728384e-02, ..., 2.2569039e-01,\n",
       "        4.4350809e-01, 7.7945320e-04],\n",
       "       [2.8431696e-01, 5.0766561e-03, 1.4511757e-01, ..., 1.8853761e-01,\n",
       "        3.6779350e-01, 8.3043287e-03],\n",
       "       ...,\n",
       "       [9.1692900e-06, 2.3072673e-08, 3.1334072e-04, ..., 5.8803907e-06,\n",
       "        1.0412218e-05, 9.9965549e-01],\n",
       "       [1.9891837e-01, 2.4618406e-03, 7.8485787e-02, ..., 7.1540996e-02,\n",
       "        2.0338167e-01, 1.2470179e-02],\n",
       "       [5.3845756e-02, 2.9068888e-04, 2.2953984e-01, ..., 3.9908800e-02,\n",
       "        1.9061984e-02, 6.4249420e-01]], dtype=float32)"
      ]
     },
     "execution_count": 150,
     "metadata": {},
     "output_type": "execute_result"
    }
   ],
   "source": [
    "x"
   ]
  },
  {
   "cell_type": "code",
   "execution_count": 287,
   "id": "cedf554e",
   "metadata": {},
   "outputs": [],
   "source": [
    "img=validation_generator[0][0][21]"
   ]
  },
  {
   "cell_type": "code",
   "execution_count": 288,
   "id": "aad4aab5",
   "metadata": {},
   "outputs": [
    {
     "data": {
      "text/plain": [
       "<matplotlib.image.AxesImage at 0x2af6a31d0>"
      ]
     },
     "execution_count": 288,
     "metadata": {},
     "output_type": "execute_result"
    },
    {
     "data": {
      "image/png": "[encoded data removed]",
      "text/plain": [
       "<Figure size 640x480 with 1 Axes>"
      ]
     },
     "metadata": {},
     "output_type": "display_data"
    }
   ],
   "source": [
    "plt.imshow(img)"
   ]
  },
  {
   "cell_type": "code",
   "execution_count": 289,
   "id": "3bca941a",
   "metadata": {},
   "outputs": [
    {
     "data": {
      "text/plain": [
       "array([0., 0., 0., 0., 0., 0., 1.], dtype=float32)"
      ]
     },
     "execution_count": 289,
     "metadata": {},
     "output_type": "execute_result"
    }
   ],
   "source": [
    "validation_generator[0][1][21]"
   ]
  },
  {
   "cell_type": "code",
   "execution_count": 290,
   "id": "3a5a3f4d",
   "metadata": {},
   "outputs": [],
   "source": [
    "img = np.reshape(img, (1, 48, 48, 1))"
   ]
  },
  {
   "cell_type": "code",
   "execution_count": 291,
   "id": "8a8d0950",
   "metadata": {},
   "outputs": [
    {
     "name": "stdout",
     "output_type": "stream",
     "text": [
      "1/1 [==============================] - 0s 29ms/step\n"
     ]
    },
    {
     "data": {
      "text/plain": [
       "array([[1.2858253e-05, 1.1119552e-09, 3.9270608e-04, 2.3246063e-02,\n",
       "        8.3250716e-06, 9.9330418e-07, 9.7633910e-01]], dtype=float32)"
      ]
     },
     "execution_count": 291,
     "metadata": {},
     "output_type": "execute_result"
    }
   ],
   "source": [
    "prediction_array =model.predict(img)\n",
    "prediction_array "
   ]
  },
  {
   "cell_type": "code",
   "execution_count": 292,
   "id": "a4366d0e",
   "metadata": {},
   "outputs": [
    {
     "name": "stdout",
     "output_type": "stream",
     "text": [
      "Predicted class: 6\n"
     ]
    }
   ],
   "source": [
    "\n",
    "\n",
    "predicted_class = np.argmax(prediction_array)\n",
    "\n",
    "print(\"Predicted class:\", predicted_class)"
   ]
  },
  {
   "cell_type": "code",
   "execution_count": 207,
   "id": "b28832e3",
   "metadata": {},
   "outputs": [
    {
     "name": "stdout",
     "output_type": "stream",
     "text": [
      "input [(None, 48, 48, 1)]\n",
      "conv1_1 (None, 48, 48, 64)\n",
      "batch_normalization_17 (None, 48, 48, 64)\n",
      "conv1_2 (None, 48, 48, 64)\n",
      "batch_normalization_18 (None, 48, 48, 64)\n",
      "pool1_1 (None, 24, 24, 64)\n",
      "drop1_1 (None, 24, 24, 64)\n",
      "conv2_1 (None, 24, 24, 128)\n",
      "batch_normalization_19 (None, 24, 24, 128)\n",
      "conv2_2 (None, 24, 24, 128)\n",
      "batch_normalization_20 (None, 24, 24, 128)\n",
      "conv2_3 (None, 24, 24, 128)\n",
      "pool2_1 (None, 12, 12, 128)\n",
      "drop2_1 (None, 12, 12, 128)\n",
      "conv3_1 (None, 12, 12, 256)\n",
      "batch_normalization_22 (None, 12, 12, 256)\n",
      "conv3_2 (None, 12, 12, 256)\n",
      "batch_normalization_23 (None, 12, 12, 256)\n",
      "conv3_3 (None, 12, 12, 256)\n",
      "batch_normalization_24 (None, 12, 12, 256)\n",
      "conv3_4 (None, 12, 12, 256)\n",
      "batch_normalization_25 (None, 12, 12, 256)\n",
      "pool3_1 (None, 6, 6, 256)\n",
      "drop3_1 (None, 6, 6, 256)\n",
      "conv4_1 (None, 6, 6, 256)\n",
      "batch_normalization_26 (None, 6, 6, 256)\n",
      "conv4_2 (None, 6, 6, 256)\n",
      "batch_normalization_27 (None, 6, 6, 256)\n",
      "conv4_3 (None, 6, 6, 256)\n",
      "batch_normalization_28 (None, 6, 6, 256)\n",
      "conv4_4 (None, 6, 6, 256)\n",
      "batch_normalization_29 (None, 6, 6, 256)\n",
      "pool4_1 (None, 3, 3, 256)\n",
      "drop4_1 (None, 3, 3, 256)\n",
      "conv5_1 (None, 3, 3, 512)\n",
      "batch_normalization_30 (None, 3, 3, 512)\n",
      "conv5_2 (None, 3, 3, 512)\n",
      "batch_normalization_31 (None, 3, 3, 512)\n",
      "conv5_3 (None, 3, 3, 512)\n",
      "batch_normalization_32 (None, 3, 3, 512)\n",
      "conv5_4 (None, 3, 3, 512)\n",
      "pool5_1 (None, 1, 1, 512)\n",
      "drop5_1 (None, 1, 1, 512)\n",
      "flatten (None, 512)\n",
      "output (None, 7)\n"
     ]
    }
   ],
   "source": [
    "for layer in model.layers:\n",
    "    print(layer.name, layer.output_shape)"
   ]
  },
  {
   "cell_type": "code",
   "execution_count": 209,
   "id": "3351cc1f",
   "metadata": {},
   "outputs": [
    {
     "data": {
      "text/plain": [
       "(48, 48, 1)"
      ]
     },
     "execution_count": 209,
     "metadata": {},
     "output_type": "execute_result"
    }
   ],
   "source": [
    "img.shape"
   ]
  },
  {
   "cell_type": "code",
   "execution_count": 254,
   "id": "f0b23bc0",
   "metadata": {},
   "outputs": [
    {
     "name": "stdout",
     "output_type": "stream",
     "text": [
      "Epoch 1/30\n"
     ]
    },
    {
     "name": "stderr",
     "output_type": "stream",
     "text": [
      "2023-12-28 18:34:35.253533: I tensorflow/core/common_runtime/executor.cc:1197] [/device:CPU:0] (DEBUG INFO) Executor start aborting (this does not indicate an error and you can ignore this message): INVALID_ARGUMENT: You must feed a value for placeholder tensor 'Placeholder/_0' with dtype int32\n",
      "\t [[{{node Placeholder/_0}}]]\n"
     ]
    },
    {
     "name": "stdout",
     "output_type": "stream",
     "text": [
      "359/359 [==============================] - ETA: 0s - loss: 0.8245 - accuracy: 0.6913"
     ]
    },
    {
     "name": "stderr",
     "output_type": "stream",
     "text": [
      "2023-12-28 18:45:10.035089: I tensorflow/core/common_runtime/executor.cc:1197] [/device:CPU:0] (DEBUG INFO) Executor start aborting (this does not indicate an error and you can ignore this message): INVALID_ARGUMENT: You must feed a value for placeholder tensor 'Placeholder/_0' with dtype int32\n",
      "\t [[{{node Placeholder/_0}}]]\n"
     ]
    },
    {
     "name": "stdout",
     "output_type": "stream",
     "text": [
      "359/359 [==============================] - 645s 2s/step - loss: 0.8245 - accuracy: 0.6913 - val_loss: 0.9769 - val_accuracy: 0.6425\n",
      "Epoch 2/30\n",
      "359/359 [==============================] - 689s 2s/step - loss: 0.8085 - accuracy: 0.6958 - val_loss: 1.0262 - val_accuracy: 0.6320\n",
      "Epoch 3/30\n",
      "359/359 [==============================] - 635s 2s/step - loss: 0.7964 - accuracy: 0.7038 - val_loss: 0.9700 - val_accuracy: 0.6676\n",
      "Epoch 4/30\n",
      "359/359 [==============================] - 695s 2s/step - loss: 0.7852 - accuracy: 0.7063 - val_loss: 1.1189 - val_accuracy: 0.6159\n",
      "Epoch 5/30\n",
      "359/359 [==============================] - 754s 2s/step - loss: 0.7698 - accuracy: 0.7102 - val_loss: 0.9990 - val_accuracy: 0.6390\n",
      "Epoch 6/30\n",
      "359/359 [==============================] - 685s 2s/step - loss: 0.7627 - accuracy: 0.7117 - val_loss: 1.0128 - val_accuracy: 0.6334\n",
      "Epoch 7/30\n",
      "359/359 [==============================] - 651s 2s/step - loss: 0.7443 - accuracy: 0.7220 - val_loss: 0.9954 - val_accuracy: 0.6669\n",
      "Epoch 8/30\n",
      "359/359 [==============================] - 648s 2s/step - loss: 0.7347 - accuracy: 0.7284 - val_loss: 0.9905 - val_accuracy: 0.6627\n",
      "Epoch 9/30\n",
      "359/359 [==============================] - 661s 2s/step - loss: 0.7233 - accuracy: 0.7287 - val_loss: 0.9861 - val_accuracy: 0.6641\n",
      "Epoch 10/30\n",
      "359/359 [==============================] - 648s 2s/step - loss: 0.7039 - accuracy: 0.7365 - val_loss: 1.0169 - val_accuracy: 0.6746\n",
      "Epoch 11/30\n",
      "359/359 [==============================] - 1037s 3s/step - loss: 0.7092 - accuracy: 0.7357 - val_loss: 1.0174 - val_accuracy: 0.6620\n",
      "Epoch 12/30\n",
      "359/359 [==============================] - 787s 2s/step - loss: 0.6805 - accuracy: 0.7452 - val_loss: 1.0186 - val_accuracy: 0.6585\n",
      "Epoch 13/30\n",
      "359/359 [==============================] - 1017s 3s/step - loss: 0.6770 - accuracy: 0.7446 - val_loss: 1.0460 - val_accuracy: 0.6739\n",
      "Epoch 14/30\n",
      "359/359 [==============================] - 1087s 3s/step - loss: 0.6670 - accuracy: 0.7518 - val_loss: 1.0302 - val_accuracy: 0.6606\n",
      "Epoch 15/30\n",
      "359/359 [==============================] - 658s 2s/step - loss: 0.6490 - accuracy: 0.7586 - val_loss: 1.0414 - val_accuracy: 0.6571\n",
      "Epoch 16/30\n",
      "359/359 [==============================] - 617s 2s/step - loss: 0.6426 - accuracy: 0.7591 - val_loss: 1.0583 - val_accuracy: 0.6802\n",
      "Epoch 17/30\n",
      "359/359 [==============================] - 629s 2s/step - loss: 0.6331 - accuracy: 0.7640 - val_loss: 1.0231 - val_accuracy: 0.6725\n",
      "Epoch 18/30\n",
      "359/359 [==============================] - 677s 2s/step - loss: 0.6146 - accuracy: 0.7695 - val_loss: 1.0586 - val_accuracy: 0.6606\n",
      "Epoch 19/30\n",
      "359/359 [==============================] - 662s 2s/step - loss: 0.6075 - accuracy: 0.7718 - val_loss: 1.0534 - val_accuracy: 0.6669\n",
      "Epoch 20/30\n",
      "359/359 [==============================] - 681s 2s/step - loss: 0.5973 - accuracy: 0.7784 - val_loss: 1.1661 - val_accuracy: 0.6271\n",
      "Epoch 21/30\n",
      "359/359 [==============================] - 642s 2s/step - loss: 0.5847 - accuracy: 0.7847 - val_loss: 1.0771 - val_accuracy: 0.6718\n",
      "Epoch 22/30\n",
      "359/359 [==============================] - 1998s 6s/step - loss: 0.5731 - accuracy: 0.7866 - val_loss: 1.0754 - val_accuracy: 0.6578\n",
      "Epoch 23/30\n",
      "359/359 [==============================] - 546s 2s/step - loss: 0.5650 - accuracy: 0.7886 - val_loss: 1.0410 - val_accuracy: 0.6634\n",
      "Epoch 24/30\n",
      "359/359 [==============================] - 805s 2s/step - loss: 0.5575 - accuracy: 0.7901 - val_loss: 1.0618 - val_accuracy: 0.6697\n",
      "Epoch 25/30\n",
      "359/359 [==============================] - 789s 2s/step - loss: 0.5449 - accuracy: 0.7977 - val_loss: 1.1035 - val_accuracy: 0.6718\n",
      "Epoch 26/30\n",
      "359/359 [==============================] - 808s 2s/step - loss: 0.5380 - accuracy: 0.7991 - val_loss: 1.0869 - val_accuracy: 0.6627\n",
      "Epoch 27/30\n",
      "359/359 [==============================] - 7162s 20s/step - loss: 0.5290 - accuracy: 0.8019 - val_loss: 1.1320 - val_accuracy: 0.6627\n",
      "Epoch 28/30\n",
      "359/359 [==============================] - 10915s 30s/step - loss: 0.5189 - accuracy: 0.8073 - val_loss: 1.1011 - val_accuracy: 0.6613\n",
      "Epoch 29/30\n",
      "359/359 [==============================] - 10929s 31s/step - loss: 0.5050 - accuracy: 0.8113 - val_loss: 1.1257 - val_accuracy: 0.6620\n",
      "Epoch 30/30\n",
      "359/359 [==============================] - 741s 2s/step - loss: 0.4962 - accuracy: 0.8139 - val_loss: 1.1107 - val_accuracy: 0.6711\n"
     ]
    }
   ],
   "source": [
    "epochs = 30\n",
    "history = model.fit(x = train_generator,epochs = epochs,validation_data = validation_generator)"
   ]
  },
  {
   "cell_type": "code",
   "execution_count": 255,
   "id": "71086beb",
   "metadata": {},
   "outputs": [],
   "source": [
    "model.save('second_contact.h5')"
   ]
  },
  {
   "cell_type": "code",
   "execution_count": 256,
   "id": "052ca451",
   "metadata": {},
   "outputs": [
    {
     "data": {
      "image/png": "[encoded data removed]",
      "text/plain": [
       "<Figure size 1200x400 with 2 Axes>"
      ]
     },
     "metadata": {},
     "output_type": "display_data"
    }
   ],
   "source": [
    "fig , ax = plt.subplots(1,2)\n",
    "train_acc = history.history['accuracy']\n",
    "train_loss = history.history['loss']\n",
    "fig.set_size_inches(12,4)\n",
    "\n",
    "ax[0].plot(history.history['accuracy'])\n",
    "ax[0].plot(history.history['val_accuracy'])\n",
    "ax[0].set_title('Training Accuracy vs Validation Accuracy')\n",
    "ax[0].set_ylabel('Accuracy')\n",
    "ax[0].set_xlabel('Epoch')\n",
    "ax[0].legend(['Train', 'Validation'], loc='upper left')\n",
    "\n",
    "ax[1].plot(history.history['loss'])\n",
    "ax[1].plot(history.history['val_loss'])\n",
    "ax[1].set_title('Training Loss vs Validation Loss')\n",
    "ax[1].set_ylabel('Loss')\n",
    "ax[1].set_xlabel('Epoch')\n",
    "ax[1].legend(['Train', 'Validation'], loc='upper left')\n",
    "\n",
    "plt.show()"
   ]
  },
  {
   "cell_type": "code",
   "execution_count": 11,
   "id": "0f37a90b",
   "metadata": {},
   "outputs": [],
   "source": [
    "def FER1_Model(input_shape=(48,48,1)):\n",
    "    # first input model\n",
    "    visible = Input(shape=input_shape, name='input')\n",
    "    num_classes = 7\n",
    "    #the 1-st block\n",
    "    conv1_1 = Conv2D(64, kernel_size=3, activation='relu', padding='same', name = 'conv1_1')(visible)\n",
    "    conv1_1 = BatchNormalization()(conv1_1)\n",
    "    conv1_2 = Conv2D(64, kernel_size=3, activation='relu', padding='same', name = 'conv1_2')(conv1_1)\n",
    "    conv1_2 = BatchNormalization()(conv1_2)\n",
    "    pool1_1 = MaxPooling2D(pool_size=(2,2), name = 'pool1_1')(conv1_2)\n",
    "    drop1_1 = Dropout(0.3, name = 'drop1_1')(pool1_1)\n",
    "    #the 2-nd block\n",
    "    conv2_1 = Conv2D(128, kernel_size=3, activation='relu', padding='same', name = 'conv2_1')(drop1_1)\n",
    "    conv2_1 = BatchNormalization()(conv2_1)\n",
    "    conv2_2 = Conv2D(128, kernel_size=3, activation='relu', padding='same', name = 'conv2_2')(conv2_1)\n",
    "    conv2_2 = BatchNormalization()(conv2_2)\n",
    "    conv2_3 = Conv2D(128, kernel_size=3, activation='relu', padding='same', name = 'conv2_3')(conv2_2)\n",
    "    conv2_2 = BatchNormalization()(conv2_3)\n",
    "    pool2_1 = MaxPooling2D(pool_size=(2,2), name = 'pool2_1')(conv2_3)\n",
    "    drop2_1 = Dropout(0.3, name = 'drop2_1')(pool2_1) \n",
    "    #the 3-rd block\n",
    "    conv3_1 = Conv2D(256, kernel_size=3, activation='relu', padding='same', name = 'conv3_1')(drop2_1)\n",
    "    conv3_1 = BatchNormalization()(conv3_1)\n",
    "    conv3_2 = Conv2D(256, kernel_size=3, activation='relu', padding='same', name = 'conv3_2')(conv3_1)\n",
    "    conv3_2 = BatchNormalization()(conv3_2)\n",
    "    conv3_3 = Conv2D(256, kernel_size=3, activation='relu', padding='same', name = 'conv3_3')(conv3_2)\n",
    "    conv3_3 = BatchNormalization()(conv3_3)\n",
    "    conv3_4 = Conv2D(256, kernel_size=3, activation='relu', padding='same', name = 'conv3_4')(conv3_3)\n",
    "    conv3_4 = BatchNormalization()(conv3_4)\n",
    "    pool3_1 = MaxPooling2D(pool_size=(2,2), name = 'pool3_1')(conv3_4)\n",
    "    drop3_1 = Dropout(0.3, name = 'drop3_1')(pool3_1)\n",
    "    #the 4-th block\n",
    "    conv4_1 = Conv2D(256, kernel_size=3, activation='relu', padding='same', name = 'conv4_1')(drop3_1)\n",
    "    conv4_1 = BatchNormalization()(conv4_1)\n",
    "    conv4_2 = Conv2D(256, kernel_size=3, activation='relu', padding='same', name = 'conv4_2')(conv4_1)\n",
    "    conv4_2 = BatchNormalization()(conv4_2)\n",
    "    conv4_3 = Conv2D(256, kernel_size=3, activation='relu', padding='same', name = 'conv4_3')(conv4_2)\n",
    "    conv4_3 = BatchNormalization()(conv4_3)\n",
    "    conv4_4 = Conv2D(256, kernel_size=3, activation='relu', padding='same', name = 'conv4_4')(conv4_3)\n",
    "    conv4_4 = BatchNormalization()(conv4_4)\n",
    "    pool4_1 = MaxPooling2D(pool_size=(2,2), name = 'pool4_1')(conv4_4)\n",
    "    drop4_1 = Dropout(0.3, name = 'drop4_1')(pool4_1)\n",
    "    #the 5-th block\n",
    "    conv5_1 = Conv2D(512, kernel_size=3, activation='relu', padding='same', name = 'conv5_1')(drop4_1)\n",
    "    conv5_1 = BatchNormalization()(conv5_1)\n",
    "    conv5_2 = Conv2D(512, kernel_size=3, activation='relu', padding='same', name = 'conv5_2')(conv5_1)\n",
    "    conv5_2 = BatchNormalization()(conv5_2)\n",
    "    conv5_3 = Conv2D(512, kernel_size=3, activation='relu', padding='same', name = 'conv5_3')(conv5_2)\n",
    "    conv5_3 = BatchNormalization()(conv5_3)\n",
    "    conv5_4 = Conv2D(512, kernel_size=3, activation='relu', padding='same', name = 'conv5_4')(conv5_3)\n",
    "    conv5_3 = BatchNormalization()(conv5_3)\n",
    "    pool5_1 = MaxPooling2D(pool_size=(2,2), name = 'pool5_1')(conv5_4)\n",
    "    drop5_1 = Dropout(0.3, name = 'drop5_1')(pool5_1)#Flatten and output\n",
    "     #the 5-th block\n",
    "    conv6_1 = Conv2D(512, kernel_size=3, activation='relu', padding='same', name = 'conv6_1')(drop5_1)\n",
    "    conv6_1 = BatchNormalization()(conv5_1)\n",
    "    conv6_2 = Conv2D(512, kernel_size=3, activation='relu', padding='same', name = 'conv6_2')(conv6_1)\n",
    "    conv6_2 = BatchNormalization()(conv5_2)\n",
    "    conv6_3 = Conv2D(512, kernel_size=3, activation='relu', padding='same', name = 'conv6_3')(conv6_2)\n",
    "    conv6_3 = BatchNormalization()(conv5_3)\n",
    "    conv6_4 = Conv2D(512, kernel_size=3, activation='relu', padding='same', name = 'conv6_4')(conv6_3)\n",
    "    conv6_4 = BatchNormalization()(conv6_4)\n",
    "    pool6_1 = MaxPooling2D(pool_size=(2,2), name = 'pool6_1')(conv6_4)\n",
    "    drop6_1 = Dropout(0.3, name = 'drop6_1')(pool6_1)#Flatten and output\n",
    "    flatten = Flatten(name = 'flatten')(drop6_1)\n",
    "    ouput = Dense(num_classes, activation='softmax', name = 'output')(flatten)# create model \n",
    "    model = Model(inputs =visible, outputs = ouput)\n",
    "    # summary layers\n",
    "    print(model.summary())\n",
    "    \n",
    "    return model"
   ]
  },
  {
   "cell_type": "code",
   "execution_count": 12,
   "id": "2783b46f",
   "metadata": {},
   "outputs": [
    {
     "name": "stdout",
     "output_type": "stream",
     "text": [
      "Model: \"model_2\"\n",
      "_________________________________________________________________\n",
      " Layer (type)                Output Shape              Param #   \n",
      "=================================================================\n",
      " input (InputLayer)          [(None, 48, 48, 1)]       0         \n",
      "                                                                 \n",
      " conv1_1 (Conv2D)            (None, 48, 48, 64)        640       \n",
      "                                                                 \n",
      " batch_normalization_38 (Bat  (None, 48, 48, 64)       256       \n",
      " chNormalization)                                                \n",
      "                                                                 \n",
      " conv1_2 (Conv2D)            (None, 48, 48, 64)        36928     \n",
      "                                                                 \n",
      " batch_normalization_39 (Bat  (None, 48, 48, 64)       256       \n",
      " chNormalization)                                                \n",
      "                                                                 \n",
      " pool1_1 (MaxPooling2D)      (None, 24, 24, 64)        0         \n",
      "                                                                 \n",
      " drop1_1 (Dropout)           (None, 24, 24, 64)        0         \n",
      "                                                                 \n",
      " conv2_1 (Conv2D)            (None, 24, 24, 128)       73856     \n",
      "                                                                 \n",
      " batch_normalization_40 (Bat  (None, 24, 24, 128)      512       \n",
      " chNormalization)                                                \n",
      "                                                                 \n",
      " conv2_2 (Conv2D)            (None, 24, 24, 128)       147584    \n",
      "                                                                 \n",
      " batch_normalization_41 (Bat  (None, 24, 24, 128)      512       \n",
      " chNormalization)                                                \n",
      "                                                                 \n",
      " conv2_3 (Conv2D)            (None, 24, 24, 128)       147584    \n",
      "                                                                 \n",
      " pool2_1 (MaxPooling2D)      (None, 12, 12, 128)       0         \n",
      "                                                                 \n",
      " drop2_1 (Dropout)           (None, 12, 12, 128)       0         \n",
      "                                                                 \n",
      " conv3_1 (Conv2D)            (None, 12, 12, 256)       295168    \n",
      "                                                                 \n",
      " batch_normalization_43 (Bat  (None, 12, 12, 256)      1024      \n",
      " chNormalization)                                                \n",
      "                                                                 \n",
      " conv3_2 (Conv2D)            (None, 12, 12, 256)       590080    \n",
      "                                                                 \n",
      " batch_normalization_44 (Bat  (None, 12, 12, 256)      1024      \n",
      " chNormalization)                                                \n",
      "                                                                 \n",
      " conv3_3 (Conv2D)            (None, 12, 12, 256)       590080    \n",
      "                                                                 \n",
      " batch_normalization_45 (Bat  (None, 12, 12, 256)      1024      \n",
      " chNormalization)                                                \n",
      "                                                                 \n",
      " conv3_4 (Conv2D)            (None, 12, 12, 256)       590080    \n",
      "                                                                 \n",
      " batch_normalization_46 (Bat  (None, 12, 12, 256)      1024      \n",
      " chNormalization)                                                \n",
      "                                                                 \n",
      " pool3_1 (MaxPooling2D)      (None, 6, 6, 256)         0         \n",
      "                                                                 \n",
      " drop3_1 (Dropout)           (None, 6, 6, 256)         0         \n",
      "                                                                 \n",
      " conv4_1 (Conv2D)            (None, 6, 6, 256)         590080    \n",
      "                                                                 \n",
      " batch_normalization_47 (Bat  (None, 6, 6, 256)        1024      \n",
      " chNormalization)                                                \n",
      "                                                                 \n",
      " conv4_2 (Conv2D)            (None, 6, 6, 256)         590080    \n",
      "                                                                 \n",
      " batch_normalization_48 (Bat  (None, 6, 6, 256)        1024      \n",
      " chNormalization)                                                \n",
      "                                                                 \n",
      " conv4_3 (Conv2D)            (None, 6, 6, 256)         590080    \n",
      "                                                                 \n",
      " batch_normalization_49 (Bat  (None, 6, 6, 256)        1024      \n",
      " chNormalization)                                                \n",
      "                                                                 \n",
      " conv4_4 (Conv2D)            (None, 6, 6, 256)         590080    \n",
      "                                                                 \n",
      " batch_normalization_50 (Bat  (None, 6, 6, 256)        1024      \n",
      " chNormalization)                                                \n",
      "                                                                 \n",
      " pool4_1 (MaxPooling2D)      (None, 3, 3, 256)         0         \n",
      "                                                                 \n",
      " drop4_1 (Dropout)           (None, 3, 3, 256)         0         \n",
      "                                                                 \n",
      " conv5_1 (Conv2D)            (None, 3, 3, 512)         1180160   \n",
      "                                                                 \n",
      " batch_normalization_51 (Bat  (None, 3, 3, 512)        2048      \n",
      " chNormalization)                                                \n",
      "                                                                 \n",
      " conv5_2 (Conv2D)            (None, 3, 3, 512)         2359808   \n",
      "                                                                 \n",
      " batch_normalization_52 (Bat  (None, 3, 3, 512)        2048      \n",
      " chNormalization)                                                \n",
      "                                                                 \n",
      " conv5_3 (Conv2D)            (None, 3, 3, 512)         2359808   \n",
      "                                                                 \n",
      " batch_normalization_53 (Bat  (None, 3, 3, 512)        2048      \n",
      " chNormalization)                                                \n",
      "                                                                 \n",
      " batch_normalization_54 (Bat  (None, 3, 3, 512)        2048      \n",
      " chNormalization)                                                \n",
      "                                                                 \n",
      " batch_normalization_57 (Bat  (None, 3, 3, 512)        2048      \n",
      " chNormalization)                                                \n",
      "                                                                 \n",
      " conv6_4 (Conv2D)            (None, 3, 3, 512)         2359808   \n",
      "                                                                 \n",
      " batch_normalization_58 (Bat  (None, 3, 3, 512)        2048      \n",
      " chNormalization)                                                \n",
      "                                                                 \n",
      " pool6_1 (MaxPooling2D)      (None, 1, 1, 512)         0         \n",
      "                                                                 \n",
      " drop6_1 (Dropout)           (None, 1, 1, 512)         0         \n",
      "                                                                 \n",
      " flatten (Flatten)           (None, 512)               0         \n",
      "                                                                 \n",
      " output (Dense)              (None, 7)                 3591      \n",
      "                                                                 \n",
      "=================================================================\n",
      "Total params: 13,117,511\n",
      "Trainable params: 13,106,503\n",
      "Non-trainable params: 11,008\n",
      "_________________________________________________________________\n",
      "None\n"
     ]
    }
   ],
   "source": [
    "model1 = FER1_Model()\n",
    "opt = Adam(learning_rate=0.0001, decay=1e-6)\n",
    "model1.compile(loss='categorical_crossentropy', optimizer=opt, metrics=['accuracy'])"
   ]
  },
  {
   "cell_type": "code",
   "execution_count": null,
   "id": "5184c342",
   "metadata": {},
   "outputs": [
    {
     "name": "stdout",
     "output_type": "stream",
     "text": [
      "Epoch 1/60\n"
     ]
    },
    {
     "name": "stderr",
     "output_type": "stream",
     "text": [
      "2024-01-24 10:25:00.704794: I tensorflow/core/common_runtime/executor.cc:1197] [/device:CPU:0] (DEBUG INFO) Executor start aborting (this does not indicate an error and you can ignore this message): INVALID_ARGUMENT: You must feed a value for placeholder tensor 'Placeholder/_0' with dtype int32\n",
      "\t [[{{node Placeholder/_0}}]]\n"
     ]
    },
    {
     "name": "stdout",
     "output_type": "stream",
     "text": [
      "359/359 [==============================] - ETA: 0s - loss: 2.4722 - accuracy: 0.2051"
     ]
    },
    {
     "name": "stderr",
     "output_type": "stream",
     "text": [
      "2024-01-24 10:33:46.509155: I tensorflow/core/common_runtime/executor.cc:1197] [/device:CPU:0] (DEBUG INFO) Executor start aborting (this does not indicate an error and you can ignore this message): INVALID_ARGUMENT: You must feed a value for placeholder tensor 'Placeholder/_0' with dtype int32\n",
      "\t [[{{node Placeholder/_0}}]]\n"
     ]
    },
    {
     "name": "stdout",
     "output_type": "stream",
     "text": [
      "359/359 [==============================] - 536s 1s/step - loss: 2.4722 - accuracy: 0.2051 - val_loss: 1.8650 - val_accuracy: 0.2291\n",
      "Epoch 2/60\n",
      "359/359 [==============================] - 578s 2s/step - loss: 1.8867 - accuracy: 0.2426 - val_loss: 1.8261 - val_accuracy: 0.2493\n",
      "Epoch 3/60\n",
      "359/359 [==============================] - 591s 2s/step - loss: 1.8015 - accuracy: 0.2554 - val_loss: 1.8197 - val_accuracy: 0.2619\n",
      "Epoch 4/60\n",
      "359/359 [==============================] - 4749s 13s/step - loss: 1.7638 - accuracy: 0.2761 - val_loss: 1.7718 - val_accuracy: 0.2961\n",
      "Epoch 5/60\n",
      "171/359 [=============>................] - ETA: 1:52:43 - loss: 1.7278 - accuracy: 0.2955"
     ]
    }
   ],
   "source": [
    "epochs = 60\n",
    "history1 = model1.fit(x = train_generator,epochs = epochs,validation_data = validation_generator)"
   ]
  },
  {
   "cell_type": "code",
   "execution_count": null,
   "id": "2ecf8cfc",
   "metadata": {},
   "outputs": [],
   "source": []
  },
  {
   "cell_type": "code",
   "execution_count": null,
   "id": "b6a9b6b0",
   "metadata": {},
   "outputs": [],
   "source": []
  },
  {
   "cell_type": "code",
   "execution_count": null,
   "id": "52f4b984",
   "metadata": {},
   "outputs": [],
   "source": []
  },
  {
   "cell_type": "code",
   "execution_count": null,
   "id": "24476132",
   "metadata": {},
   "outputs": [],
   "source": []
  }
 ],
 "metadata": {
  "kernelspec": {
   "display_name": "Python 3 (ipykernel)",
   "language": "python",
   "name": "python3"
  },
  "language_info": {
   "codemirror_mode": {
    "name": "ipython",
    "version": 3
   },
   "file_extension": ".py",
   "mimetype": "text/x-python",
   "name": "python",
   "nbconvert_exporter": "python",
   "pygments_lexer": "ipython3",
   "version": "3.11.5"
  }
 },
 "nbformat": 4,
 "nbformat_minor": 5
}
